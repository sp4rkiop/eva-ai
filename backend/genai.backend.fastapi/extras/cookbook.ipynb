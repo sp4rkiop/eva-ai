{
 "cells": [
  {
   "cell_type": "code",
   "execution_count": null,
   "metadata": {},
   "outputs": [],
   "source": [
    "from langchain_openai import ChatOpenAI\n",
    "from langchain_core.output_parsers import StrOutputParser\n",
    "from langchain_core.prompts import ChatPromptTemplate\n",
    "\n",
    "from os import getenv\n",
    "from dotenv import load_dotenv\n",
    "import requests, random"
   ]
  },
  {
   "cell_type": "code",
   "execution_count": null,
   "metadata": {},
   "outputs": [],
   "source": [
    "load_dotenv()"
   ]
  },
  {
   "cell_type": "code",
   "execution_count": null,
   "metadata": {},
   "outputs": [],
   "source": [
    "#Fetch Store all free models\n",
    "models=[]\n",
    "free_models = []\n",
    "model_req_uri = getenv(\"OPENROUTER_URI\")+\"/models\"\n",
    "response = requests.get(model_req_uri)\n",
    "for model in response.json()['data']:\n",
    "    if model['pricing']['prompt'] == '0' and model['pricing']['completion'] == '0' and model['pricing']['image'] == '0':\n",
    "        free_models.append({\n",
    "            'id': model['id'],\n",
    "            'name': model['name'],\n",
    "            'context_length': model['context_length'],\n",
    "            'modality': model['architecture']['modality'],\n",
    "            'tokenizer': model['architecture']['tokenizer'],\n",
    "            'pricing': model['pricing'],\n",
    "            'max_completion_tokens': model['top_provider']['max_completion_tokens'],\n",
    "            'moderated': model['top_provider']['is_moderated'],\n",
    "            'request_limit': model['per_request_limits']\n",
    "            })\n",
    "    else:\n",
    "        models.append({\n",
    "            'id': model['id'],\n",
    "            'name': model['name'],\n",
    "            'context_length': model['context_length'],\n",
    "            'modality': model['architecture']['modality'],\n",
    "            'tokenizer': model['architecture']['tokenizer'],\n",
    "            'pricing': model['pricing'],\n",
    "            'max_completion_tokens': model['top_provider']['max_completion_tokens'],\n",
    "            'moderated': model['top_provider']['is_moderated'],\n",
    "            'request_limit': model['per_request_limits']\n",
    "            })\n",
    "\n",
    "models.extend(free_models)"
   ]
  },
  {
   "cell_type": "code",
   "execution_count": null,
   "metadata": {},
   "outputs": [],
   "source": [
    "text_models = [m for m in free_models if 'image' not in m['modality']]\n",
    "\n",
    "random_text_model = random.choice(text_models)\n",
    "print(random_text_model)"
   ]
  },
  {
   "cell_type": "code",
   "execution_count": null,
   "metadata": {},
   "outputs": [],
   "source": [
    "if model:\n",
    "    prompt = ChatPromptTemplate.from_template(\"tell me a joke about {topic}. 200 words\")\n",
    "    parser = StrOutputParser()\n",
    "    llm = ChatOpenAI(\n",
    "    api_key=getenv(\"OPENROUTER_TOKEN\"),\n",
    "    base_url=getenv(\"OPENROUTER_URI\"),\n",
    "    model=random_text_model['id'],\n",
    "    tiktoken_model_name=random_text_model['tokenizer'],\n",
    "    max_completion_tokens=random_text_model['max_completion_tokens'],\n",
    "    temperature=0.1,\n",
    "    streaming=True,\n",
    "    )\n",
    "\n",
    "    chain = prompt | llm | parser"
   ]
  },
  {
   "cell_type": "code",
   "execution_count": null,
   "metadata": {},
   "outputs": [],
   "source": [
    "if chain:\n",
    "    print(f\"Model Used: {random_text_model['name']}\")\n",
    "    async for chunk in chain.astream({\"topic\": \"parrot\"}):\n",
    "        print(chunk, end=\"\", flush=True)"
   ]
  }
 ],
 "metadata": {
  "kernelspec": {
   "display_name": ".venv",
   "language": "python",
   "name": "python3"
  },
  "language_info": {
   "codemirror_mode": {
    "name": "ipython",
    "version": 3
   },
   "file_extension": ".py",
   "mimetype": "text/x-python",
   "name": "python",
   "nbconvert_exporter": "python",
   "pygments_lexer": "ipython3",
   "version": "3.13.3"
  }
 },
 "nbformat": 4,
 "nbformat_minor": 2
}
