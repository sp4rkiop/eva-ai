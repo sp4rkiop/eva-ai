{
 "cells": [
  {
   "cell_type": "code",
   "execution_count": null,
   "metadata": {},
   "outputs": [],
   "source": [
    "from langchain_openai import ChatOpenAI\n",
    "from langchain_core.output_parsers import StrOutputParser\n",
    "from langchain_core.prompts import ChatPromptTemplate\n",
    "\n",
    "from os import getenv\n",
    "from dotenv import load_dotenv\n",
    "import requests, random"
   ]
  },
  {
   "cell_type": "code",
   "execution_count": null,
   "metadata": {},
   "outputs": [],
   "source": [
    "load_dotenv()"
   ]
  },
  {
   "cell_type": "code",
   "execution_count": null,
   "metadata": {},
   "outputs": [],
   "source": [
    "# Fetch Store all free models\n",
    "models = []\n",
    "free_models = []\n",
    "model_req_uri = getenv(\"OPENROUTER_URI\") + \"/models\"\n",
    "response = requests.get(model_req_uri)\n",
    "for model in response.json()[\"data\"]:\n",
    "    if (\n",
    "        model[\"pricing\"][\"prompt\"] == \"0\"\n",
    "        and model[\"pricing\"][\"completion\"] == \"0\"\n",
    "        and model[\"pricing\"][\"image\"] == \"0\"\n",
    "    ):\n",
    "        free_models.append(\n",
    "            {\n",
    "                \"id\": model[\"id\"],\n",
    "                \"name\": model[\"name\"],\n",
    "                \"context_length\": model[\"context_length\"],\n",
    "                \"modality\": model[\"architecture\"][\"modality\"],\n",
    "                \"tokenizer\": model[\"architecture\"][\"tokenizer\"],\n",
    "                \"pricing\": model[\"pricing\"],\n",
    "                \"max_completion_tokens\": model[\"top_provider\"][\"max_completion_tokens\"],\n",
    "                \"moderated\": model[\"top_provider\"][\"is_moderated\"],\n",
    "                \"request_limit\": model[\"per_request_limits\"],\n",
    "            }\n",
    "        )\n",
    "    else:\n",
    "        models.append(\n",
    "            {\n",
    "                \"id\": model[\"id\"],\n",
    "                \"name\": model[\"name\"],\n",
    "                \"context_length\": model[\"context_length\"],\n",
    "                \"modality\": model[\"architecture\"][\"modality\"],\n",
    "                \"tokenizer\": model[\"architecture\"][\"tokenizer\"],\n",
    "                \"pricing\": model[\"pricing\"],\n",
    "                \"max_completion_tokens\": model[\"top_provider\"][\"max_completion_tokens\"],\n",
    "                \"moderated\": model[\"top_provider\"][\"is_moderated\"],\n",
    "                \"request_limit\": model[\"per_request_limits\"],\n",
    "            }\n",
    "        )\n",
    "\n",
    "models.extend(free_models)"
   ]
  },
  {
   "cell_type": "code",
   "execution_count": null,
   "metadata": {},
   "outputs": [],
   "source": [
    "text_models = [m for m in free_models if \"image\" not in m[\"modality\"]]\n",
    "\n",
    "random_text_model = random.choice(text_models)\n",
    "print(random_text_model)"
   ]
  },
  {
   "cell_type": "code",
   "execution_count": null,
   "metadata": {},
   "outputs": [],
   "source": [
    "if model:\n",
    "    prompt = ChatPromptTemplate.from_template(\"tell me a joke about {topic}. 200 words\")\n",
    "    parser = StrOutputParser()\n",
    "    llm = ChatOpenAI(\n",
    "        api_key=getenv(\"OPENROUTER_TOKEN\"),\n",
    "        base_url=getenv(\"OPENROUTER_URI\"),\n",
    "        model=random_text_model[\"id\"],\n",
    "        tiktoken_model_name=random_text_model[\"tokenizer\"],\n",
    "        max_completion_tokens=random_text_model[\"max_completion_tokens\"],\n",
    "        temperature=0.1,\n",
    "        streaming=True,\n",
    "    )\n",
    "\n",
    "    chain = prompt | llm | parser"
   ]
  },
  {
   "cell_type": "code",
   "execution_count": null,
   "metadata": {},
   "outputs": [],
   "source": [
    "if chain:\n",
    "    print(f\"Model Used: {random_text_model['name']}\")\n",
    "    async for chunk in chain.astream({\"topic\": \"parrot\"}):\n",
    "        print(chunk, end=\"\", flush=True)"
   ]
  },
  {
   "cell_type": "code",
   "execution_count": null,
   "metadata": {},
   "outputs": [
    {
     "data": {
      "image/png": "[encoded data removed]",
      "text/plain": [
       "<IPython.core.display.Image object>"
      ]
     },
     "metadata": {},
     "output_type": "display_data"
    }
   ],
   "source": [
    "import uuid, pickle, logging, re, asyncio\n",
    "from pydantic import SecretStr\n",
    "from sqlalchemy import update\n",
    "from typing import TypedDict, Dict, Any, List, Optional, Sequence\n",
    "from langchain_openai import AzureChatOpenAI\n",
    "from langchain_core.prompts import ChatPromptTemplate\n",
    "from langchain_core.output_parsers import StrOutputParser\n",
    "from langchain_core.chat_history import BaseChatMessageHistory\n",
    "from langchain_core.messages import (\n",
    "    BaseMessage,\n",
    "    HumanMessage,\n",
    "    AIMessage,\n",
    "    AIMessageChunk,\n",
    "    ToolMessage,\n",
    ")\n",
    "from pydantic import BaseModel, Field\n",
    "from copy import deepcopy\n",
    "from langgraph.graph import StateGraph, START, END\n",
    "from langgraph.prebuilt import ToolNode, tools_condition\n",
    "\n",
    "\n",
    "class GraphState(TypedDict):\n",
    "    user_id: uuid.UUID\n",
    "    user_input: str\n",
    "    chat_id: Optional[str]\n",
    "    new_chat: bool\n",
    "    messages: List[BaseMessage]\n",
    "    token_usage: int\n",
    "    tool_used: bool\n",
    "\n",
    "\n",
    "builder = StateGraph(GraphState)\n",
    "\n",
    "\n",
    "# Node 1: Process chat input\n",
    "async def process_chat(state):\n",
    "    return state\n",
    "\n",
    "\n",
    "# Node 2: Save to database\n",
    "async def save_to_db(state):\n",
    "    return state\n",
    "\n",
    "\n",
    "# Node: sync tool messages to store\n",
    "async def sync_messages(state):\n",
    "    return state\n",
    "\n",
    "\n",
    "# Build graph\n",
    "builder.add_node(\"process_chat\", process_chat)\n",
    "builder.add_node(\"tools\", ToolNode([]))\n",
    "builder.add_node(\"sync_messages\", sync_messages)\n",
    "builder.add_conditional_edges(\n",
    "    \"process_chat\",\n",
    "    tools_condition,\n",
    "    {\"tools\": \"tools\", END: \"save_to_db\"},\n",
    ")\n",
    "builder.add_node(\"save_to_db\", save_to_db)\n",
    "\n",
    "# Define edges\n",
    "builder.set_entry_point(\"process_chat\")  # START\n",
    "# Any time a tool is called, we return to the chatbot to decide the next step\n",
    "builder.add_edge(\"tools\", \"sync_messages\")\n",
    "builder.add_edge(\"sync_messages\", \"process_chat\")\n",
    "builder.add_edge(\"save_to_db\", END)\n",
    "\n",
    "graph = builder.compile()\n",
    "from IPython.display import Image, display\n",
    "\n",
    "try:\n",
    "    display(Image(graph.get_graph().draw_mermaid_png()))\n",
    "except Exception:\n",
    "    # This requires some extra dependencies and is optional\n",
    "    pass"
   ]
  }
 ],
 "metadata": {
  "kernelspec": {
   "display_name": ".venv",
   "language": "python",
   "name": "python3"
  },
  "language_info": {
   "codemirror_mode": {
    "name": "ipython",
    "version": 3
   },
   "file_extension": ".py",
   "mimetype": "text/x-python",
   "name": "python",
   "nbconvert_exporter": "python",
   "pygments_lexer": "ipython3",
   "version": "3.13.3"
  }
 },
 "nbformat": 4,
 "nbformat_minor": 2
}
